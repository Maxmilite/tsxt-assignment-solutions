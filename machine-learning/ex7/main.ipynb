{
 "cells": [
  {
   "cell_type": "code",
   "execution_count": null,
   "metadata": {},
   "outputs": [],
   "source": [
    "import numpy as np\n",
    "import torch\n",
    "from matplotlib import pyplot as plt\n",
    "import tqdm"
   ]
  },
  {
   "cell_type": "code",
   "execution_count": null,
   "metadata": {},
   "outputs": [],
   "source": [
    "# cuda\n",
    "device = torch.device('cuda' if torch.cuda.is_available() else 'cpu')\n",
    "torch.set_default_device(device)\n",
    "\n",
    "# cvxopt set quiet\n",
    "import cvxopt\n",
    "cvxopt.solvers.options['show_progress'] = False"
   ]
  },
  {
   "cell_type": "code",
   "execution_count": null,
   "metadata": {},
   "outputs": [],
   "source": [
    "dataset = [\n",
    "    {\n",
    "        \"training\": np.loadtxt(\"training_1.txt\"),\n",
    "        \"test\": np.loadtxt(\"test_1.txt\")\n",
    "    },\n",
    "    {\n",
    "        \"training\": np.loadtxt(\"training_2.txt\"),\n",
    "        \"test\": np.loadtxt(\"test_2.txt\")\n",
    "    }\n",
    "]"
   ]
  },
  {
   "cell_type": "code",
   "execution_count": null,
   "metadata": {},
   "outputs": [],
   "source": [
    "import cvxopt\n",
    "import numpy as np\n",
    "\n",
    "class SVM:\n",
    "    def __init__(self, x, y):\n",
    "        self.x = x\n",
    "        self.y = y\n",
    "        self.N = y.shape[0]\n",
    "\n",
    "    def linear(self, features=None):\n",
    "        features = features if features is not None else self.x\n",
    "        return np.dot(features, features.T)\n",
    "\n",
    "    def rbf(self):\n",
    "        dist = np.sum((self.x[:, np.newaxis] - self.x[np.newaxis, :]) ** 2, axis=2)\n",
    "        return np.exp(-self.gamma * dist)\n",
    "\n",
    "    def calc(self, x):\n",
    "        assert self.kernel == 'rbf'\n",
    "        dist = np.zeros((self.N, x.shape[0]))\n",
    "        for i in range(self.N):\n",
    "            for j in range(x.shape[0]):\n",
    "                dist[i, j] = np.sum((self.x[i] - x[j]) ** 2)\n",
    "        return np.exp(-self.gamma * dist)\n",
    "\n",
    "    def fit(self, c=None, kernel='linear', gamma=None):\n",
    "        self.kernel = kernel\n",
    "        self.gamma = gamma\n",
    "        self.matrix = self.linear() if kernel == 'linear' else self.rbf()\n",
    "        self.c = c\n",
    "        self.alpha = self.solve().flatten()\n",
    "        self.w = np.dot((self.alpha * self.y).T, self.x)\n",
    "        self.b = self.calcB()\n",
    "        return self.w, self.b\n",
    "\n",
    "    def calcB(self):\n",
    "        if self.c:\n",
    "            S = (self.alpha > 1e-4)\n",
    "            return np.mean(self.y[S] - np.dot(self.x[S], self.w))\n",
    "        return 0\n",
    "\n",
    "    def solve(self):\n",
    "        P = cvxopt.matrix(np.outer(self.y, self.y) * self.matrix)\n",
    "        q = cvxopt.matrix(-np.ones(self.N))\n",
    "        A = cvxopt.matrix(self.y, (1, self.N), tc='d')\n",
    "        b = cvxopt.matrix(0.0)\n",
    "        G = cvxopt.matrix(np.vstack((-np.eye(self.N), np.eye(self.N))))\n",
    "        h = cvxopt.matrix(np.hstack((np.zeros(self.N), np.ones(self.N) * self.c)) if self.c else np.zeros(self.N))\n",
    "        sol = cvxopt.solvers.qp(P, q, G, h, A, b)\n",
    "        return np.array(sol['x']).flatten()\n",
    "    \n",
    "    def predict(self, x):\n",
    "        assert self.kernel == 'rbf'\n",
    "        return np.sign(np.dot(self.alpha * self.y, self.calc(x)) + self.b)"
   ]
  },
  {
   "cell_type": "code",
   "execution_count": null,
   "metadata": {},
   "outputs": [],
   "source": [
    "fig, ax = plt.subplots(1, 2, figsize=(10, 5))\n",
    "\n",
    "for offset in [0, 1]:\n",
    "    x_train, y_train = dataset[offset][\"training\"][:, :2], dataset[offset][\"training\"][:, 2]\n",
    "    svm = SVM(x_train, y_train)\n",
    "    w, b = svm.fit(c=1, kernel='linear')\n",
    "    print(w, b)\n",
    "    def plot_decision_boundary_line(x_train, y_train, w, b, ax=ax[offset]):\n",
    "        ax.scatter(x_train[y_train == 1][:, 0], x_train[y_train == 1][:, 1], color='red')\n",
    "        ax.scatter(x_train[y_train == -1][:, 0], x_train[y_train == -1][:, 1], color='blue')\n",
    "        x = np.linspace(np.min(x_train), np.max(x_train), 100)\n",
    "        y = - (w[0] * x + b) / w[1]\n",
    "        ax.plot(x, y, color='green')\n",
    "        ax.legend(['Class 1', 'Class -1', 'Decision Boundary'])\n",
    "        ax.set_title(f\"Dataset {offset + 1}\")\n",
    "    plot_decision_boundary_line(x_train, y_train, w, b)"
   ]
  },
  {
   "cell_type": "code",
   "execution_count": null,
   "metadata": {},
   "outputs": [],
   "source": [
    "for offset in [0, 1]:\n",
    "    x_train, y_train = dataset[offset][\"training\"][:, :2], dataset[offset][\"training\"][:, 2]\n",
    "    x_test, y_test = dataset[offset][\"test\"][:, :2], dataset[offset][\"test\"][:, 2]\n",
    "    svm = SVM(x_train, y_train)\n",
    "    w, b = svm.fit(c=1, kernel='linear')\n",
    "    y_pred = np.sign(np.dot(x_test, w) + b)\n",
    "    accuracy = np.mean(y_pred == y_test)\n",
    "    print(f\"Accuracy for dataset {offset + 1}: {accuracy}\")"
   ]
  },
  {
   "cell_type": "code",
   "execution_count": null,
   "metadata": {},
   "outputs": [],
   "source": [
    "for c in [0.1, 1, 10]:\n",
    "    for offset in [0, 1]:\n",
    "        x_train, y_train = dataset[offset][\"training\"][:, :2], dataset[offset][\"training\"][:, 2]\n",
    "        x_test, y_test = dataset[offset][\"test\"][:, :2], dataset[offset][\"test\"][:, 2]\n",
    "        svm = SVM(x_train, y_train)\n",
    "        w, b = svm.fit(c=c, kernel='linear')\n",
    "        y_pred = np.sign(np.dot(x_test, w) + b)\n",
    "        accuracy = np.mean(y_pred == y_test)\n",
    "        print(f\"Accuracy for dataset {offset + 1} with c={c}: {accuracy}\")"
   ]
  },
  {
   "cell_type": "code",
   "execution_count": null,
   "metadata": {},
   "outputs": [],
   "source": [
    "def strimage(file):\n",
    "    with open(file, 'r') as fidin:\n",
    "        lines = fidin.readlines()\n",
    "\n",
    "    size = len(lines)\n",
    "\n",
    "    grids = []\n",
    "    y = []\n",
    "\n",
    "    for it in range(size):\n",
    "        a = lines[it].strip()\n",
    "        lena = len(a)\n",
    "        a = a[3:lena]\n",
    "        a = a.split(' ')\n",
    "        xy = np.array([np.fromstring(i, sep=':', dtype=int) for i in a])\n",
    "\n",
    "        xy = xy.flatten()\n",
    "\n",
    "        lenxy = len(xy)\n",
    "        grid = np.zeros(784)\n",
    "        \n",
    "        for i in range(1, lenxy, 2):\n",
    "            if xy[i] <= 0:\n",
    "                break\n",
    "            grid[xy[i-1] - 1] = xy[i] * 100 / 255\n",
    "        \n",
    "        grid1 = grid.reshape(28, 28)\n",
    "        grid1 = np.fliplr(np.diag(np.ones(28))).dot(grid1)\n",
    "        grid1 = np.rot90(grid1, 3)\n",
    "        \n",
    "        grids.append(grid1)\n",
    "\n",
    "        y.append(int(lines[it][:2]))\n",
    "\n",
    "    return np.array(grids), np.array(y)"
   ]
  },
  {
   "cell_type": "code",
   "execution_count": null,
   "metadata": {},
   "outputs": [],
   "source": [
    "from skimage.feature import local_binary_pattern\n",
    "\n",
    "def lbp_features(images):\n",
    "    '''\n",
    "    input: tensor (N, 28, 28)\n",
    "    output: tensor (N, 59)\n",
    "    '''\n",
    "    N, H, W = images.shape\n",
    "    lbp_images = np.zeros((N, 59))\n",
    "\n",
    "    for i in range(N):\n",
    "        lbp = local_binary_pattern(images[i], P=8, R=1, method='uniform')\n",
    "        hist, _ = np.histogram(lbp, bins=np.arange(60), density=True)\n",
    "        lbp_images[i] = hist\n",
    "\n",
    "    return lbp_images"
   ]
  },
  {
   "cell_type": "code",
   "execution_count": null,
   "metadata": {},
   "outputs": [],
   "source": [
    "file = 'train-01-images.svm'\n",
    "\n",
    "grid, y = strimage(file)\n",
    "\n",
    "x_train = grid\n",
    "y_train = y\n",
    "\n",
    "x_train = lbp_features(x_train)"
   ]
  },
  {
   "cell_type": "code",
   "execution_count": null,
   "metadata": {},
   "outputs": [],
   "source": [
    "def getRandomIndices(x_train, y_train, percentage, seed=0):\n",
    "    N = x_train.shape[0]\n",
    "    np.random.seed(seed)\n",
    "    indices = np.random.permutation(N)\n",
    "    x_train = x_train[indices]\n",
    "    y_train = y_train[indices]\n",
    "    N = int(N * percentage)\n",
    "    return x_train[:N], y_train[:N]\n",
    "\n",
    "svm = SVM(*getRandomIndices(x_train, y_train, 0.1))\n",
    "w, b = svm.fit(c=1, kernel='linear')"
   ]
  },
  {
   "cell_type": "code",
   "execution_count": null,
   "metadata": {},
   "outputs": [],
   "source": [
    "file = 'test-01-images.svm'\n",
    "\n",
    "grid, y = strimage(file)\n",
    "\n",
    "x_test = grid\n",
    "y_test = y\n",
    "\n",
    "x_test = lbp_features(x_test)\n",
    "\n",
    "y_pred = np.sign(np.dot(x_test, w) + b)\n",
    "accuracy = np.mean(y_pred == y_test)\n",
    "\n",
    "print(f\"Accuracy for dataset HandWritten Number: {accuracy}\")"
   ]
  },
  {
   "cell_type": "code",
   "execution_count": null,
   "metadata": {},
   "outputs": [],
   "source": [
    "y_pred = np.sign(np.dot(x_test, w) + b)\n",
    "misclassified = np.where(y_pred != y_test)[0][:10]\n",
    "y_pred = (np.dot(x_test, w) + b)\n",
    "\n",
    "fig, ax = plt.subplots(1, 10, figsize=(20, 2))\n",
    "for i, idx in enumerate(misclassified):\n",
    "    ax[i].imshow(grid[idx].reshape(28, 28), cmap='gray')\n",
    "    ax[i].set_title(\"Pred: {:.1f}, G.T.: {}\".format(y_pred[idx], y_test[idx]))\n",
    "    ax[i].axis('off')"
   ]
  },
  {
   "cell_type": "code",
   "execution_count": null,
   "metadata": {},
   "outputs": [],
   "source": [
    "for c in [0.01, 0.03, 0.1, 0.3, 1, 3, 10, 30, 100, 3000]:\n",
    "    svm = SVM(*getRandomIndices(x_train, y_train, 0.1, seed=0))\n",
    "    w, b = svm.fit(c=c, kernel='linear')\n",
    "    xt, yt = getRandomIndices(x_train, y_train, 0.1, seed=0)\n",
    "    y_pred = np.sign(np.dot(xt, w) + b)\n",
    "    train_acc = np.mean(y_pred == yt)\n",
    "    y_pred = np.sign(np.dot(x_test, w) + b)\n",
    "    test_acc = np.mean(y_pred == y_test)\n",
    "    print(\"Accuracy with c={}: \\t{}, \\t{}\".format(c, train_acc, test_acc))"
   ]
  },
  {
   "cell_type": "code",
   "execution_count": null,
   "metadata": {},
   "outputs": [],
   "source": [
    "x_train = np.loadtxt(\"training_3.txt\")\n",
    "x_train, y_train = x_train[:, :2], x_train[:, 2]"
   ]
  },
  {
   "cell_type": "code",
   "execution_count": null,
   "metadata": {},
   "outputs": [],
   "source": [
    "plt.figure(figsize=(5, 5))\n",
    "plt.scatter(x_train[y_train == 1][:, 0], x_train[y_train == 1][:, 1], color='red')\n",
    "plt.scatter(x_train[y_train == -1][:, 0], x_train[y_train == -1][:, 1], color='blue')\n",
    "\n",
    "plt.legend(['Class 1', 'Class -1'])\n",
    "plt.title(\"Dataset 3\")"
   ]
  },
  {
   "cell_type": "code",
   "execution_count": null,
   "metadata": {},
   "outputs": [],
   "source": [
    "svm = SVM(x_train, y_train)\n",
    "svm.fit(c=1, kernel='rbf', gamma=100)\n",
    "\n",
    "def plot_decision_boundary_rbf(x_train, y_train):\n",
    "    plt.scatter(x_train[y_train == 1][:, 0], x_train[y_train == 1][:, 1], color='red')\n",
    "    plt.scatter(x_train[y_train == -1][:, 0], x_train[y_train == -1][:, 1], color='blue')\n",
    "    x = np.linspace(np.min(x_train), np.max(x_train), 100)\n",
    "    y = np.linspace(np.min(x_train), np.max(x_train), 100)\n",
    "    x, y = np.meshgrid(x, y)\n",
    "    xy = np.array([x.flatten(), y.flatten()]).T\n",
    "    z = np.sign(svm.predict(xy)).reshape(100, 100)\n",
    "    plt.contourf(x, y, z, alpha=0.2, cmap='coolwarm')\n",
    "    plt.legend(['Class 1', 'Class -1', 'Decision Boundary'])\n",
    "    \n",
    "plot_decision_boundary_rbf(x_train, y_train)"
   ]
  },
  {
   "cell_type": "code",
   "execution_count": null,
   "metadata": {},
   "outputs": [],
   "source": [
    "fig, ax = plt.subplots(1, 4, figsize=(20, 5))\n",
    "\n",
    "for index, gamma in enumerate([1, 10, 100, 1000]):\n",
    "    svm = SVM(x_train, y_train)\n",
    "    svm.fit(c=1, kernel='rbf', gamma=gamma)\n",
    "\n",
    "    def plot_decision_boundary_rbf(x_train, y_train, ax=ax[index]):\n",
    "        ax.scatter(x_train[y_train == 1][:, 0], x_train[y_train == 1][:, 1], color='red')\n",
    "        ax.scatter(x_train[y_train == -1][:, 0], x_train[y_train == -1][:, 1], color='blue')\n",
    "        x = np.linspace(np.min(x_train), np.max(x_train), 100)\n",
    "        y = np.linspace(np.min(x_train), np.max(x_train), 100)\n",
    "        x, y = np.meshgrid(x, y)\n",
    "        xy = np.array([x.flatten(), y.flatten()]).T\n",
    "        z = np.sign(svm.predict(xy)).reshape(100, 100)\n",
    "        ax.contour(x, y, z, levels=[0], colors='green')\n",
    "        ax.legend(['Class 1', 'Class -1', 'Decision Boundary'])\n",
    "        ax.set_title(f\"Gamma: {gamma}\")\n",
    "        \n",
    "    plot_decision_boundary_rbf(x_train, y_train)"
   ]
  }
 ],
 "metadata": {
  "kernelspec": {
   "display_name": "softras",
   "language": "python",
   "name": "python3"
  },
  "language_info": {
   "codemirror_mode": {
    "name": "ipython",
    "version": 3
   },
   "file_extension": ".py",
   "mimetype": "text/x-python",
   "name": "python",
   "nbconvert_exporter": "python",
   "pygments_lexer": "ipython3",
   "version": "3.10.14"
  }
 },
 "nbformat": 4,
 "nbformat_minor": 2
}
